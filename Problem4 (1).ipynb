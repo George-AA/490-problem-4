{
  "nbformat": 4,
  "nbformat_minor": 0,
  "metadata": {
    "colab": {
      "provenance": []
    },
    "kernelspec": {
      "name": "python3",
      "display_name": "Python 3"
    },
    "language_info": {
      "name": "python"
    }
  },
  "cells": [
    {
      "cell_type": "code",
      "source": [
        "import numpy as np\n",
        "import pandas as pd\n",
        "from sklearn.model_selection import train_test_split\n",
        "from sklearn.preprocessing import StandardScaler, MinMaxScaler\n",
        "\n",
        "\n",
        "data = pd.read_parquet(\"hf://datasets/BatteRaquette58/airbnb-stock-price/data/airbnb-stock.parquet\")\n",
        "print(data.columns)\n",
        "\n",
        "\n",
        "X = data.drop('close_last', axis=1)\n",
        "y = data['close_last'].values.reshape(-1, 1)\n",
        "\n",
        "X_train, X_test, y_train, y_test = train_test_split(X, y, test_size=0.2, random_state=42)\n",
        "\n",
        "scaler_X = StandardScaler()\n",
        "X_train = scaler_X.fit_transform(X_train)\n",
        "X_test = scaler_X.transform(X_test)\n",
        "\n",
        "\n",
        "scaler_y = MinMaxScaler()\n",
        "y_train = scaler_y.fit_transform(y_train)\n",
        "y_test = scaler_y.transform(y_test)\n",
        "\n",
        "\n",
        "X_train = np.array(X_train)\n",
        "y_train = np.array(y_train)\n",
        "X_test = np.array(X_test)\n",
        "y_test = np.array(y_test)\n",
        "\n",
        "class NeuralNetwork:\n",
        "    def __init__(self, input_size, hidden_size, output_size):\n",
        "\n",
        "        self.W1 = np.random.randn(input_size, hidden_size) * 0.01\n",
        "        self.b1 = np.zeros((1, hidden_size))\n",
        "        self.W2 = np.random.randn(hidden_size, output_size) * 0.01\n",
        "        self.b2 = np.zeros((1, output_size))\n",
        "\n",
        "    def sigmoid(self, x):\n",
        "        return 1 / (1 + np.exp(-x))\n",
        "\n",
        "    def sigmoid_derivative(self, x):\n",
        "        return x * (1 - x)\n",
        "\n",
        "    def forward(self, X):\n",
        "        self.z1 = np.dot(X, self.W1) + self.b1\n",
        "        self.a1 = self.sigmoid(self.z1)\n",
        "        self.z2 = np.dot(self.a1, self.W2) + self.b2\n",
        "        self.a2 = self.sigmoid(self.z2)\n",
        "        return self.a2\n",
        "\n",
        "    def backward(self, X, y, output):\n",
        "        self.delta2 = (y - output) * self.sigmoid_derivative(output)\n",
        "        self.dW2 = np.dot(self.a1.T, self.delta2)\n",
        "        self.db2 = np.sum(self.delta2, axis=0, keepdims=True)\n",
        "        self.delta1 = np.dot(self.delta2, self.W2.T) * self.sigmoid_derivative(self.a1)\n",
        "        self.dW1 = np.dot(X.T, self.delta1)\n",
        "        self.db1 = np.sum(self.delta1, axis=0, keepdims=True)\n",
        "\n",
        "    def update(self, learning_rate):\n",
        "        self.W1 += learning_rate * self.dW1\n",
        "        self.b1 += learning_rate * self.db1\n",
        "        self.W2 += learning_rate * self.dW2\n",
        "        self.b2 += learning_rate * self.db2\n",
        "\n",
        "    def train(self, X, y, epochs, learning_rate):\n",
        "        for i in range(epochs):\n",
        "            output = self.forward(X)\n",
        "            self.backward(X, y, output)\n",
        "            self.update(learning_rate)\n",
        "            if i % 1000 == 0:\n",
        "                print(f\"Epoch: {i}, Loss: {np.mean(np.square(y - output))}\")\n",
        "\n",
        "\n",
        "input_size = X_train.shape[1]\n",
        "hidden_size = 5\n",
        "output_size = 1\n",
        "nn = NeuralNetwork(input_size, hidden_size, output_size)\n",
        "\n",
        "\n",
        "epochs = 10000\n",
        "learning_rate = 0.001\n",
        "nn.train(X_train, y_train, epochs, learning_rate)\n",
        "\n",
        "\n",
        "predictions = nn.forward(X_test)\n",
        "\n",
        "print(\"Mean Squared Error:\", np.mean(np.square(y_test - predictions)))\n"
      ],
      "metadata": {
        "colab": {
          "base_uri": "https://localhost:8080/"
        },
        "id": "BxWfWtVYlR1l",
        "outputId": "6823d0ac-7c16-40e4-ed04-f920a223e800"
      },
      "execution_count": 13,
      "outputs": [
        {
          "output_type": "stream",
          "name": "stdout",
          "text": [
            "Index(['date', 'open', 'close_last', 'volume', 'high', 'low'], dtype='object')\n",
            "Epoch: 0, Loss: 0.03738200592002358\n",
            "Epoch: 1000, Loss: 0.0024240262169715216\n",
            "Epoch: 2000, Loss: 0.002016065985044692\n",
            "Epoch: 3000, Loss: 0.0017821184953151546\n",
            "Epoch: 4000, Loss: 0.0016096803311478364\n",
            "Epoch: 5000, Loss: 0.0014720301426002736\n",
            "Epoch: 6000, Loss: 0.0013604141346877606\n",
            "Epoch: 7000, Loss: 0.001271115734881305\n",
            "Epoch: 8000, Loss: 0.0012013191451668253\n",
            "Epoch: 9000, Loss: 0.001148057594513732\n",
            "Mean Squared Error: 0.0008468663269520015\n"
          ]
        }
      ]
    }
  ]
}