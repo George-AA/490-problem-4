{
  "nbformat": 4,
  "nbformat_minor": 0,
  "metadata": {
    "colab": {
      "provenance": []
    },
    "kernelspec": {
      "name": "python3",
      "display_name": "Python 3"
    },
    "language_info": {
      "name": "python"
    }
  },
  "cells": [
    {
      "cell_type": "code",
      "execution_count": 4,
      "metadata": {
        "id": "Wb2zFrQnZCaI"
      },
      "outputs": [],
      "source": [
        "# prompt: code for feed forward neural network to work on an external dataset\n",
        "\n",
        "import numpy as np\n",
        "import pandas as pd\n",
        "from sklearn.model_selection import train_test_split\n",
        "from sklearn.preprocessing import StandardScaler\n",
        "\n",
        "# Assuming your data is in a CSV file named 'data.csv'\n",
        "# Replace 'data.csv' with your actual file name\n",
        "\n",
        "\n",
        "data = pd.read_parquet(\"hf://datasets/BatteRaquette58/airbnb-stock-price/data/airbnb-stock.parquet\")\n"
      ]
    },
    {
      "cell_type": "code",
      "source": [
        "import numpy as np\n",
        "import pandas as pd\n",
        "from sklearn.model_selection import train_test_split\n",
        "from sklearn.preprocessing import StandardScaler, MinMaxScaler\n",
        "\n",
        "# Load the dataset\n",
        "data = pd.read_parquet(\"hf://datasets/BatteRaquette58/airbnb-stock-price/data/airbnb-stock.parquet\")\n",
        "\n",
        "# Print column names to find the target column\n",
        "print(data.columns)\n",
        "\n",
        "# Select features and target variable\n",
        "X = data.drop('close_last', axis=1)  # Use 'close_last' or another target column\n",
        "y = data['close_last'].values.reshape(-1, 1)  # Set the target variable to a numerical column\n",
        "\n",
        "# Split data into training and testing sets\n",
        "X_train, X_test, y_train, y_test = train_test_split(X, y, test_size=0.2, random_state=42)\n",
        "\n",
        "# Feature scaling (important for neural networks)\n",
        "scaler_X = StandardScaler()\n",
        "X_train = scaler_X.fit_transform(X_train)\n",
        "X_test = scaler_X.transform(X_test)\n",
        "\n",
        "# Normalize/scale the target variable (optional, depending on your data)\n",
        "scaler_y = MinMaxScaler()\n",
        "y_train = scaler_y.fit_transform(y_train)  # Scale target variable\n",
        "y_test = scaler_y.transform(y_test)  # Scale target variable\n",
        "\n",
        "# Convert to numpy arrays for easier handling\n",
        "X_train = np.array(X_train)\n",
        "y_train = np.array(y_train)\n",
        "X_test = np.array(X_test)\n",
        "y_test = np.array(y_test)\n",
        "\n",
        "# Neural Network implementation\n",
        "class NeuralNetwork:\n",
        "    def __init__(self, input_size, hidden_size, output_size):\n",
        "        # Initialize weights and biases with small values\n",
        "        self.W1 = np.random.randn(input_size, hidden_size) * 0.01  # Small random values\n",
        "        self.b1 = np.zeros((1, hidden_size))\n",
        "        self.W2 = np.random.randn(hidden_size, output_size) * 0.01  # Small random values\n",
        "        self.b2 = np.zeros((1, output_size))\n",
        "\n",
        "    def sigmoid(self, x):\n",
        "        return 1 / (1 + np.exp(-x))\n",
        "\n",
        "    def sigmoid_derivative(self, x):\n",
        "        return x * (1 - x)\n",
        "\n",
        "    def forward(self, X):\n",
        "        self.z1 = np.dot(X, self.W1) + self.b1\n",
        "        self.a1 = self.sigmoid(self.z1)\n",
        "        self.z2 = np.dot(self.a1, self.W2) + self.b2\n",
        "        self.a2 = self.sigmoid(self.z2)\n",
        "        return self.a2\n",
        "\n",
        "    def backward(self, X, y, output):\n",
        "        self.delta2 = (y - output) * self.sigmoid_derivative(output)\n",
        "        self.dW2 = np.dot(self.a1.T, self.delta2)\n",
        "        self.db2 = np.sum(self.delta2, axis=0, keepdims=True)\n",
        "        self.delta1 = np.dot(self.delta2, self.W2.T) * self.sigmoid_derivative(self.a1)\n",
        "        self.dW1 = np.dot(X.T, self.delta1)\n",
        "        self.db1 = np.sum(self.delta1, axis=0, keepdims=True)\n",
        "\n",
        "    def update(self, learning_rate):\n",
        "        self.W1 += learning_rate * self.dW1\n",
        "        self.b1 += learning_rate * self.db1\n",
        "        self.W2 += learning_rate * self.dW2\n",
        "        self.b2 += learning_rate * self.db2\n",
        "\n",
        "    def train(self, X, y, epochs, learning_rate):\n",
        "        for i in range(epochs):\n",
        "            output = self.forward(X)\n",
        "            self.backward(X, y, output)\n",
        "            self.update(learning_rate)\n",
        "            if i % 1000 == 0:\n",
        "                print(f\"Epoch: {i}, Loss: {np.mean(np.square(y - output))}\")\n",
        "\n",
        "# Define the neural network\n",
        "input_size = X_train.shape[1]  # Number of features\n",
        "hidden_size = 5  # Number of neurons in hidden layer\n",
        "output_size = 1  # Number of output neurons (1 for regression)\n",
        "nn = NeuralNetwork(input_size, hidden_size, output_size)\n",
        "\n",
        "# Train the neural network\n",
        "epochs = 10000\n",
        "learning_rate = 0.001  # Lower learning rate for stability\n",
        "nn.train(X_train, y_train, epochs, learning_rate)\n",
        "\n",
        "# Make predictions on the test set\n",
        "predictions = nn.forward(X_test)\n",
        "\n",
        "# Evaluate the model\n",
        "print(\"Mean Squared Error:\", np.mean(np.square(y_test - predictions)))\n"
      ],
      "metadata": {
        "colab": {
          "base_uri": "https://localhost:8080/"
        },
        "id": "PbVLhXNFbSzo",
        "outputId": "098d1c8a-5b13-4837-9520-38b0bfec055c"
      },
      "execution_count": 11,
      "outputs": [
        {
          "output_type": "stream",
          "name": "stdout",
          "text": [
            "Index(['date', 'open', 'close_last', 'volume', 'high', 'low'], dtype='object')\n",
            "Epoch: 0, Loss: 0.03736163978962655\n",
            "Epoch: 1000, Loss: 0.0025458884044694263\n",
            "Epoch: 2000, Loss: 0.002069800521026528\n",
            "Epoch: 3000, Loss: 0.001803161716133899\n",
            "Epoch: 4000, Loss: 0.001612037436960171\n",
            "Epoch: 5000, Loss: 0.0014643045137067913\n",
            "Epoch: 6000, Loss: 0.0013484071307926062\n",
            "Epoch: 7000, Loss: 0.001258437034796486\n",
            "Epoch: 8000, Loss: 0.0011899282310485226\n",
            "Epoch: 9000, Loss: 0.0011387817278165693\n",
            "Mean Squared Error: 0.0008339585142538547\n"
          ]
        }
      ]
    }
  ]
}